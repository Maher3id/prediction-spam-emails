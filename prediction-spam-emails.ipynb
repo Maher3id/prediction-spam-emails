{
 "cells": [
  {
   "cell_type": "markdown",
   "id": "937b7b80",
   "metadata": {
    "papermill": {
     "duration": 0.034329,
     "end_time": "2022-04-17T23:49:31.647576",
     "exception": false,
     "start_time": "2022-04-17T23:49:31.613247",
     "status": "completed"
    },
    "tags": []
   },
   "source": [
    "# import libraries\n",
    "# read the data"
   ]
  },
  {
   "cell_type": "code",
   "execution_count": 1,
   "id": "fa1f7ff1",
   "metadata": {
    "execution": {
     "iopub.execute_input": "2022-04-17T23:49:31.721157Z",
     "iopub.status.busy": "2022-04-17T23:49:31.719313Z",
     "iopub.status.idle": "2022-04-17T23:49:33.917461Z",
     "shell.execute_reply": "2022-04-17T23:49:33.918145Z",
     "shell.execute_reply.started": "2022-04-17T23:40:09.946120Z"
    },
    "papermill": {
     "duration": 2.235977,
     "end_time": "2022-04-17T23:49:33.918475",
     "exception": false,
     "start_time": "2022-04-17T23:49:31.682498",
     "status": "completed"
    },
    "tags": []
   },
   "outputs": [
    {
     "data": {
      "text/html": [
       "<div>\n",
       "<style scoped>\n",
       "    .dataframe tbody tr th:only-of-type {\n",
       "        vertical-align: middle;\n",
       "    }\n",
       "\n",
       "    .dataframe tbody tr th {\n",
       "        vertical-align: top;\n",
       "    }\n",
       "\n",
       "    .dataframe thead th {\n",
       "        text-align: right;\n",
       "    }\n",
       "</style>\n",
       "<table border=\"1\" class=\"dataframe\">\n",
       "  <thead>\n",
       "    <tr style=\"text-align: right;\">\n",
       "      <th></th>\n",
       "      <th>Email No.</th>\n",
       "      <th>the</th>\n",
       "      <th>to</th>\n",
       "      <th>ect</th>\n",
       "      <th>and</th>\n",
       "      <th>for</th>\n",
       "      <th>of</th>\n",
       "      <th>a</th>\n",
       "      <th>you</th>\n",
       "      <th>hou</th>\n",
       "      <th>...</th>\n",
       "      <th>connevey</th>\n",
       "      <th>jay</th>\n",
       "      <th>valued</th>\n",
       "      <th>lay</th>\n",
       "      <th>infrastructure</th>\n",
       "      <th>military</th>\n",
       "      <th>allowing</th>\n",
       "      <th>ff</th>\n",
       "      <th>dry</th>\n",
       "      <th>Prediction</th>\n",
       "    </tr>\n",
       "  </thead>\n",
       "  <tbody>\n",
       "    <tr>\n",
       "      <th>0</th>\n",
       "      <td>Email 1</td>\n",
       "      <td>0</td>\n",
       "      <td>0</td>\n",
       "      <td>1</td>\n",
       "      <td>0</td>\n",
       "      <td>0</td>\n",
       "      <td>0</td>\n",
       "      <td>2</td>\n",
       "      <td>0</td>\n",
       "      <td>0</td>\n",
       "      <td>...</td>\n",
       "      <td>0</td>\n",
       "      <td>0</td>\n",
       "      <td>0</td>\n",
       "      <td>0</td>\n",
       "      <td>0</td>\n",
       "      <td>0</td>\n",
       "      <td>0</td>\n",
       "      <td>0</td>\n",
       "      <td>0</td>\n",
       "      <td>0</td>\n",
       "    </tr>\n",
       "    <tr>\n",
       "      <th>1</th>\n",
       "      <td>Email 2</td>\n",
       "      <td>8</td>\n",
       "      <td>13</td>\n",
       "      <td>24</td>\n",
       "      <td>6</td>\n",
       "      <td>6</td>\n",
       "      <td>2</td>\n",
       "      <td>102</td>\n",
       "      <td>1</td>\n",
       "      <td>27</td>\n",
       "      <td>...</td>\n",
       "      <td>0</td>\n",
       "      <td>0</td>\n",
       "      <td>0</td>\n",
       "      <td>0</td>\n",
       "      <td>0</td>\n",
       "      <td>0</td>\n",
       "      <td>0</td>\n",
       "      <td>1</td>\n",
       "      <td>0</td>\n",
       "      <td>0</td>\n",
       "    </tr>\n",
       "    <tr>\n",
       "      <th>2</th>\n",
       "      <td>Email 3</td>\n",
       "      <td>0</td>\n",
       "      <td>0</td>\n",
       "      <td>1</td>\n",
       "      <td>0</td>\n",
       "      <td>0</td>\n",
       "      <td>0</td>\n",
       "      <td>8</td>\n",
       "      <td>0</td>\n",
       "      <td>0</td>\n",
       "      <td>...</td>\n",
       "      <td>0</td>\n",
       "      <td>0</td>\n",
       "      <td>0</td>\n",
       "      <td>0</td>\n",
       "      <td>0</td>\n",
       "      <td>0</td>\n",
       "      <td>0</td>\n",
       "      <td>0</td>\n",
       "      <td>0</td>\n",
       "      <td>0</td>\n",
       "    </tr>\n",
       "    <tr>\n",
       "      <th>3</th>\n",
       "      <td>Email 4</td>\n",
       "      <td>0</td>\n",
       "      <td>5</td>\n",
       "      <td>22</td>\n",
       "      <td>0</td>\n",
       "      <td>5</td>\n",
       "      <td>1</td>\n",
       "      <td>51</td>\n",
       "      <td>2</td>\n",
       "      <td>10</td>\n",
       "      <td>...</td>\n",
       "      <td>0</td>\n",
       "      <td>0</td>\n",
       "      <td>0</td>\n",
       "      <td>0</td>\n",
       "      <td>0</td>\n",
       "      <td>0</td>\n",
       "      <td>0</td>\n",
       "      <td>0</td>\n",
       "      <td>0</td>\n",
       "      <td>0</td>\n",
       "    </tr>\n",
       "    <tr>\n",
       "      <th>4</th>\n",
       "      <td>Email 5</td>\n",
       "      <td>7</td>\n",
       "      <td>6</td>\n",
       "      <td>17</td>\n",
       "      <td>1</td>\n",
       "      <td>5</td>\n",
       "      <td>2</td>\n",
       "      <td>57</td>\n",
       "      <td>0</td>\n",
       "      <td>9</td>\n",
       "      <td>...</td>\n",
       "      <td>0</td>\n",
       "      <td>0</td>\n",
       "      <td>0</td>\n",
       "      <td>0</td>\n",
       "      <td>0</td>\n",
       "      <td>0</td>\n",
       "      <td>0</td>\n",
       "      <td>1</td>\n",
       "      <td>0</td>\n",
       "      <td>0</td>\n",
       "    </tr>\n",
       "  </tbody>\n",
       "</table>\n",
       "<p>5 rows × 3002 columns</p>\n",
       "</div>"
      ],
      "text/plain": [
       "  Email No.  the  to  ect  and  for  of    a  you  hou  ...  connevey  jay  \\\n",
       "0   Email 1    0   0    1    0    0   0    2    0    0  ...         0    0   \n",
       "1   Email 2    8  13   24    6    6   2  102    1   27  ...         0    0   \n",
       "2   Email 3    0   0    1    0    0   0    8    0    0  ...         0    0   \n",
       "3   Email 4    0   5   22    0    5   1   51    2   10  ...         0    0   \n",
       "4   Email 5    7   6   17    1    5   2   57    0    9  ...         0    0   \n",
       "\n",
       "   valued  lay  infrastructure  military  allowing  ff  dry  Prediction  \n",
       "0       0    0               0         0         0   0    0           0  \n",
       "1       0    0               0         0         0   1    0           0  \n",
       "2       0    0               0         0         0   0    0           0  \n",
       "3       0    0               0         0         0   0    0           0  \n",
       "4       0    0               0         0         0   1    0           0  \n",
       "\n",
       "[5 rows x 3002 columns]"
      ]
     },
     "execution_count": 1,
     "metadata": {},
     "output_type": "execute_result"
    }
   ],
   "source": [
    "import numpy as np\n",
    "import pandas as pd\n",
    "data=pd.read_csv('../input/spam-emails/emails.csv')\n",
    "data.head()"
   ]
  },
  {
   "cell_type": "markdown",
   "id": "ffd6cb75",
   "metadata": {
    "papermill": {
     "duration": 0.034996,
     "end_time": "2022-04-17T23:49:33.988875",
     "exception": false,
     "start_time": "2022-04-17T23:49:33.953879",
     "status": "completed"
    },
    "tags": []
   },
   "source": [
    "# Shape of train and test"
   ]
  },
  {
   "cell_type": "code",
   "execution_count": 2,
   "id": "977af90c",
   "metadata": {
    "execution": {
     "iopub.execute_input": "2022-04-17T23:49:34.063577Z",
     "iopub.status.busy": "2022-04-17T23:49:34.062603Z",
     "iopub.status.idle": "2022-04-17T23:49:34.068710Z",
     "shell.execute_reply": "2022-04-17T23:49:34.069262Z",
     "shell.execute_reply.started": "2022-04-17T23:40:12.232122Z"
    },
    "papermill": {
     "duration": 0.046446,
     "end_time": "2022-04-17T23:49:34.069458",
     "exception": false,
     "start_time": "2022-04-17T23:49:34.023012",
     "status": "completed"
    },
    "tags": []
   },
   "outputs": [
    {
     "name": "stdout",
     "output_type": "stream",
     "text": [
      "There are 5172 rows and 3002 columns in train\n"
     ]
    }
   ],
   "source": [
    "print('There are {} rows and {} columns in train'.format(data.shape[0],data.shape[1]))"
   ]
  },
  {
   "cell_type": "markdown",
   "id": "7487f124",
   "metadata": {
    "papermill": {
     "duration": 0.034625,
     "end_time": "2022-04-17T23:49:34.138361",
     "exception": false,
     "start_time": "2022-04-17T23:49:34.103736",
     "status": "completed"
    },
    "tags": []
   },
   "source": [
    "# The column labels of the DataFrame."
   ]
  },
  {
   "cell_type": "code",
   "execution_count": 3,
   "id": "e2e962f0",
   "metadata": {
    "execution": {
     "iopub.execute_input": "2022-04-17T23:49:34.213745Z",
     "iopub.status.busy": "2022-04-17T23:49:34.212767Z",
     "iopub.status.idle": "2022-04-17T23:49:34.218527Z",
     "shell.execute_reply": "2022-04-17T23:49:34.219106Z",
     "shell.execute_reply.started": "2022-04-17T23:40:12.239478Z"
    },
    "papermill": {
     "duration": 0.046444,
     "end_time": "2022-04-17T23:49:34.219314",
     "exception": false,
     "start_time": "2022-04-17T23:49:34.172870",
     "status": "completed"
    },
    "tags": []
   },
   "outputs": [
    {
     "data": {
      "text/plain": [
       "Index(['Email No.', 'the', 'to', 'ect', 'and', 'for', 'of', 'a', 'you', 'hou',\n",
       "       ...\n",
       "       'connevey', 'jay', 'valued', 'lay', 'infrastructure', 'military',\n",
       "       'allowing', 'ff', 'dry', 'Prediction'],\n",
       "      dtype='object', length=3002)"
      ]
     },
     "execution_count": 3,
     "metadata": {},
     "output_type": "execute_result"
    }
   ],
   "source": [
    "data.columns"
   ]
  },
  {
   "cell_type": "markdown",
   "id": "8251e8e3",
   "metadata": {
    "papermill": {
     "duration": 0.034828,
     "end_time": "2022-04-17T23:49:34.290617",
     "exception": false,
     "start_time": "2022-04-17T23:49:34.255789",
     "status": "completed"
    },
    "tags": []
   },
   "source": [
    "# Return the dtypes in the DataFrame."
   ]
  },
  {
   "cell_type": "code",
   "execution_count": 4,
   "id": "df4fb3c2",
   "metadata": {
    "execution": {
     "iopub.execute_input": "2022-04-17T23:49:34.364322Z",
     "iopub.status.busy": "2022-04-17T23:49:34.363337Z",
     "iopub.status.idle": "2022-04-17T23:49:34.370739Z",
     "shell.execute_reply": "2022-04-17T23:49:34.371314Z",
     "shell.execute_reply.started": "2022-04-17T23:40:12.254597Z"
    },
    "papermill": {
     "duration": 0.045771,
     "end_time": "2022-04-17T23:49:34.371495",
     "exception": false,
     "start_time": "2022-04-17T23:49:34.325724",
     "status": "completed"
    },
    "tags": []
   },
   "outputs": [
    {
     "data": {
      "text/plain": [
       "Email No.     object\n",
       "the            int64\n",
       "to             int64\n",
       "ect            int64\n",
       "and            int64\n",
       "               ...  \n",
       "military       int64\n",
       "allowing       int64\n",
       "ff             int64\n",
       "dry            int64\n",
       "Prediction     int64\n",
       "Length: 3002, dtype: object"
      ]
     },
     "execution_count": 4,
     "metadata": {},
     "output_type": "execute_result"
    }
   ],
   "source": [
    "data.dtypes"
   ]
  },
  {
   "cell_type": "markdown",
   "id": "7c61715b",
   "metadata": {
    "papermill": {
     "duration": 0.03561,
     "end_time": "2022-04-17T23:49:34.442054",
     "exception": false,
     "start_time": "2022-04-17T23:49:34.406444",
     "status": "completed"
    },
    "tags": []
   },
   "source": [
    "# Compute pairwise correlation of columns, excluding NA/null values.\n"
   ]
  },
  {
   "cell_type": "markdown",
   "id": "691434fa",
   "metadata": {
    "papermill": {
     "duration": 0.035643,
     "end_time": "2022-04-17T23:49:34.513416",
     "exception": false,
     "start_time": "2022-04-17T23:49:34.477773",
     "status": "completed"
    },
    "tags": []
   },
   "source": []
  },
  {
   "cell_type": "code",
   "execution_count": 5,
   "id": "25a692c8",
   "metadata": {
    "execution": {
     "iopub.execute_input": "2022-04-17T23:49:34.589256Z",
     "iopub.status.busy": "2022-04-17T23:49:34.588264Z",
     "iopub.status.idle": "2022-04-17T23:51:39.188877Z",
     "shell.execute_reply": "2022-04-17T23:51:39.189423Z",
     "shell.execute_reply.started": "2022-04-17T23:40:12.265981Z"
    },
    "papermill": {
     "duration": 124.639174,
     "end_time": "2022-04-17T23:51:39.189612",
     "exception": false,
     "start_time": "2022-04-17T23:49:34.550438",
     "status": "completed"
    },
    "tags": []
   },
   "outputs": [
    {
     "data": {
      "text/html": [
       "<div>\n",
       "<style scoped>\n",
       "    .dataframe tbody tr th:only-of-type {\n",
       "        vertical-align: middle;\n",
       "    }\n",
       "\n",
       "    .dataframe tbody tr th {\n",
       "        vertical-align: top;\n",
       "    }\n",
       "\n",
       "    .dataframe thead th {\n",
       "        text-align: right;\n",
       "    }\n",
       "</style>\n",
       "<table border=\"1\" class=\"dataframe\">\n",
       "  <thead>\n",
       "    <tr style=\"text-align: right;\">\n",
       "      <th></th>\n",
       "      <th>the</th>\n",
       "      <th>to</th>\n",
       "      <th>ect</th>\n",
       "      <th>and</th>\n",
       "      <th>for</th>\n",
       "      <th>of</th>\n",
       "      <th>a</th>\n",
       "      <th>you</th>\n",
       "      <th>hou</th>\n",
       "      <th>in</th>\n",
       "      <th>...</th>\n",
       "      <th>connevey</th>\n",
       "      <th>jay</th>\n",
       "      <th>valued</th>\n",
       "      <th>lay</th>\n",
       "      <th>infrastructure</th>\n",
       "      <th>military</th>\n",
       "      <th>allowing</th>\n",
       "      <th>ff</th>\n",
       "      <th>dry</th>\n",
       "      <th>Prediction</th>\n",
       "    </tr>\n",
       "  </thead>\n",
       "  <tbody>\n",
       "    <tr>\n",
       "      <th>the</th>\n",
       "      <td>1.000000</td>\n",
       "      <td>0.852715</td>\n",
       "      <td>0.337249</td>\n",
       "      <td>0.841200</td>\n",
       "      <td>0.784112</td>\n",
       "      <td>0.796397</td>\n",
       "      <td>0.784451</td>\n",
       "      <td>0.471392</td>\n",
       "      <td>0.303621</td>\n",
       "      <td>0.845670</td>\n",
       "      <td>...</td>\n",
       "      <td>0.008926</td>\n",
       "      <td>0.075479</td>\n",
       "      <td>0.225586</td>\n",
       "      <td>0.223426</td>\n",
       "      <td>0.101768</td>\n",
       "      <td>0.129466</td>\n",
       "      <td>0.127019</td>\n",
       "      <td>0.341878</td>\n",
       "      <td>0.051021</td>\n",
       "      <td>-0.004421</td>\n",
       "    </tr>\n",
       "    <tr>\n",
       "      <th>to</th>\n",
       "      <td>0.852715</td>\n",
       "      <td>1.000000</td>\n",
       "      <td>0.375480</td>\n",
       "      <td>0.825474</td>\n",
       "      <td>0.781971</td>\n",
       "      <td>0.752722</td>\n",
       "      <td>0.896466</td>\n",
       "      <td>0.508513</td>\n",
       "      <td>0.347993</td>\n",
       "      <td>0.881759</td>\n",
       "      <td>...</td>\n",
       "      <td>0.013250</td>\n",
       "      <td>0.101247</td>\n",
       "      <td>0.232847</td>\n",
       "      <td>0.255793</td>\n",
       "      <td>0.093322</td>\n",
       "      <td>0.091639</td>\n",
       "      <td>0.120059</td>\n",
       "      <td>0.406666</td>\n",
       "      <td>0.071388</td>\n",
       "      <td>0.055277</td>\n",
       "    </tr>\n",
       "    <tr>\n",
       "      <th>ect</th>\n",
       "      <td>0.337249</td>\n",
       "      <td>0.375480</td>\n",
       "      <td>1.000000</td>\n",
       "      <td>0.272863</td>\n",
       "      <td>0.369777</td>\n",
       "      <td>0.178028</td>\n",
       "      <td>0.400009</td>\n",
       "      <td>0.155783</td>\n",
       "      <td>0.974152</td>\n",
       "      <td>0.298387</td>\n",
       "      <td>...</td>\n",
       "      <td>0.134339</td>\n",
       "      <td>0.031431</td>\n",
       "      <td>0.046080</td>\n",
       "      <td>0.061550</td>\n",
       "      <td>0.004393</td>\n",
       "      <td>-0.007690</td>\n",
       "      <td>0.004368</td>\n",
       "      <td>0.141460</td>\n",
       "      <td>0.002492</td>\n",
       "      <td>-0.120782</td>\n",
       "    </tr>\n",
       "    <tr>\n",
       "      <th>and</th>\n",
       "      <td>0.841200</td>\n",
       "      <td>0.825474</td>\n",
       "      <td>0.272863</td>\n",
       "      <td>1.000000</td>\n",
       "      <td>0.751287</td>\n",
       "      <td>0.809665</td>\n",
       "      <td>0.815196</td>\n",
       "      <td>0.476764</td>\n",
       "      <td>0.235953</td>\n",
       "      <td>0.874276</td>\n",
       "      <td>...</td>\n",
       "      <td>0.005151</td>\n",
       "      <td>0.104454</td>\n",
       "      <td>0.272963</td>\n",
       "      <td>0.253440</td>\n",
       "      <td>0.151980</td>\n",
       "      <td>0.084147</td>\n",
       "      <td>0.124766</td>\n",
       "      <td>0.400225</td>\n",
       "      <td>0.042484</td>\n",
       "      <td>0.114364</td>\n",
       "    </tr>\n",
       "    <tr>\n",
       "      <th>for</th>\n",
       "      <td>0.784112</td>\n",
       "      <td>0.781971</td>\n",
       "      <td>0.369777</td>\n",
       "      <td>0.751287</td>\n",
       "      <td>1.000000</td>\n",
       "      <td>0.681457</td>\n",
       "      <td>0.744098</td>\n",
       "      <td>0.495852</td>\n",
       "      <td>0.329051</td>\n",
       "      <td>0.762659</td>\n",
       "      <td>...</td>\n",
       "      <td>0.022168</td>\n",
       "      <td>0.041775</td>\n",
       "      <td>0.236213</td>\n",
       "      <td>0.213631</td>\n",
       "      <td>0.134469</td>\n",
       "      <td>0.067151</td>\n",
       "      <td>0.121057</td>\n",
       "      <td>0.301074</td>\n",
       "      <td>0.038126</td>\n",
       "      <td>-0.003101</td>\n",
       "    </tr>\n",
       "    <tr>\n",
       "      <th>...</th>\n",
       "      <td>...</td>\n",
       "      <td>...</td>\n",
       "      <td>...</td>\n",
       "      <td>...</td>\n",
       "      <td>...</td>\n",
       "      <td>...</td>\n",
       "      <td>...</td>\n",
       "      <td>...</td>\n",
       "      <td>...</td>\n",
       "      <td>...</td>\n",
       "      <td>...</td>\n",
       "      <td>...</td>\n",
       "      <td>...</td>\n",
       "      <td>...</td>\n",
       "      <td>...</td>\n",
       "      <td>...</td>\n",
       "      <td>...</td>\n",
       "      <td>...</td>\n",
       "      <td>...</td>\n",
       "      <td>...</td>\n",
       "      <td>...</td>\n",
       "    </tr>\n",
       "    <tr>\n",
       "      <th>military</th>\n",
       "      <td>0.129466</td>\n",
       "      <td>0.091639</td>\n",
       "      <td>-0.007690</td>\n",
       "      <td>0.084147</td>\n",
       "      <td>0.067151</td>\n",
       "      <td>0.073004</td>\n",
       "      <td>0.111685</td>\n",
       "      <td>0.006498</td>\n",
       "      <td>0.005429</td>\n",
       "      <td>0.120620</td>\n",
       "      <td>...</td>\n",
       "      <td>-0.002249</td>\n",
       "      <td>-0.002979</td>\n",
       "      <td>0.043408</td>\n",
       "      <td>0.104297</td>\n",
       "      <td>0.041300</td>\n",
       "      <td>1.000000</td>\n",
       "      <td>0.055227</td>\n",
       "      <td>0.049524</td>\n",
       "      <td>0.010835</td>\n",
       "      <td>0.064850</td>\n",
       "    </tr>\n",
       "    <tr>\n",
       "      <th>allowing</th>\n",
       "      <td>0.127019</td>\n",
       "      <td>0.120059</td>\n",
       "      <td>0.004368</td>\n",
       "      <td>0.124766</td>\n",
       "      <td>0.121057</td>\n",
       "      <td>0.108786</td>\n",
       "      <td>0.105358</td>\n",
       "      <td>0.082757</td>\n",
       "      <td>-0.000966</td>\n",
       "      <td>0.138099</td>\n",
       "      <td>...</td>\n",
       "      <td>-0.002675</td>\n",
       "      <td>-0.003543</td>\n",
       "      <td>-0.005130</td>\n",
       "      <td>0.018550</td>\n",
       "      <td>0.276001</td>\n",
       "      <td>0.055227</td>\n",
       "      <td>1.000000</td>\n",
       "      <td>0.096212</td>\n",
       "      <td>-0.003995</td>\n",
       "      <td>0.011279</td>\n",
       "    </tr>\n",
       "    <tr>\n",
       "      <th>ff</th>\n",
       "      <td>0.341878</td>\n",
       "      <td>0.406666</td>\n",
       "      <td>0.141460</td>\n",
       "      <td>0.400225</td>\n",
       "      <td>0.301074</td>\n",
       "      <td>0.444252</td>\n",
       "      <td>0.464473</td>\n",
       "      <td>0.195058</td>\n",
       "      <td>0.114210</td>\n",
       "      <td>0.448303</td>\n",
       "      <td>...</td>\n",
       "      <td>0.005403</td>\n",
       "      <td>0.073690</td>\n",
       "      <td>0.130356</td>\n",
       "      <td>0.164296</td>\n",
       "      <td>0.114092</td>\n",
       "      <td>0.049524</td>\n",
       "      <td>0.096212</td>\n",
       "      <td>1.000000</td>\n",
       "      <td>0.049690</td>\n",
       "      <td>0.135479</td>\n",
       "    </tr>\n",
       "    <tr>\n",
       "      <th>dry</th>\n",
       "      <td>0.051021</td>\n",
       "      <td>0.071388</td>\n",
       "      <td>0.002492</td>\n",
       "      <td>0.042484</td>\n",
       "      <td>0.038126</td>\n",
       "      <td>0.026403</td>\n",
       "      <td>0.093822</td>\n",
       "      <td>0.028883</td>\n",
       "      <td>0.000601</td>\n",
       "      <td>0.077751</td>\n",
       "      <td>...</td>\n",
       "      <td>-0.003373</td>\n",
       "      <td>0.035028</td>\n",
       "      <td>-0.006468</td>\n",
       "      <td>0.018939</td>\n",
       "      <td>-0.003137</td>\n",
       "      <td>0.010835</td>\n",
       "      <td>-0.003995</td>\n",
       "      <td>0.049690</td>\n",
       "      <td>1.000000</td>\n",
       "      <td>-0.006260</td>\n",
       "    </tr>\n",
       "    <tr>\n",
       "      <th>Prediction</th>\n",
       "      <td>-0.004421</td>\n",
       "      <td>0.055277</td>\n",
       "      <td>-0.120782</td>\n",
       "      <td>0.114364</td>\n",
       "      <td>-0.003101</td>\n",
       "      <td>0.197234</td>\n",
       "      <td>0.107776</td>\n",
       "      <td>0.130293</td>\n",
       "      <td>-0.128340</td>\n",
       "      <td>0.154055</td>\n",
       "      <td>...</td>\n",
       "      <td>-0.030375</td>\n",
       "      <td>-0.031694</td>\n",
       "      <td>0.098775</td>\n",
       "      <td>0.064315</td>\n",
       "      <td>0.038161</td>\n",
       "      <td>0.064850</td>\n",
       "      <td>0.011279</td>\n",
       "      <td>0.135479</td>\n",
       "      <td>-0.006260</td>\n",
       "      <td>1.000000</td>\n",
       "    </tr>\n",
       "  </tbody>\n",
       "</table>\n",
       "<p>3001 rows × 3001 columns</p>\n",
       "</div>"
      ],
      "text/plain": [
       "                 the        to       ect       and       for        of  \\\n",
       "the         1.000000  0.852715  0.337249  0.841200  0.784112  0.796397   \n",
       "to          0.852715  1.000000  0.375480  0.825474  0.781971  0.752722   \n",
       "ect         0.337249  0.375480  1.000000  0.272863  0.369777  0.178028   \n",
       "and         0.841200  0.825474  0.272863  1.000000  0.751287  0.809665   \n",
       "for         0.784112  0.781971  0.369777  0.751287  1.000000  0.681457   \n",
       "...              ...       ...       ...       ...       ...       ...   \n",
       "military    0.129466  0.091639 -0.007690  0.084147  0.067151  0.073004   \n",
       "allowing    0.127019  0.120059  0.004368  0.124766  0.121057  0.108786   \n",
       "ff          0.341878  0.406666  0.141460  0.400225  0.301074  0.444252   \n",
       "dry         0.051021  0.071388  0.002492  0.042484  0.038126  0.026403   \n",
       "Prediction -0.004421  0.055277 -0.120782  0.114364 -0.003101  0.197234   \n",
       "\n",
       "                   a       you       hou        in  ...  connevey       jay  \\\n",
       "the         0.784451  0.471392  0.303621  0.845670  ...  0.008926  0.075479   \n",
       "to          0.896466  0.508513  0.347993  0.881759  ...  0.013250  0.101247   \n",
       "ect         0.400009  0.155783  0.974152  0.298387  ...  0.134339  0.031431   \n",
       "and         0.815196  0.476764  0.235953  0.874276  ...  0.005151  0.104454   \n",
       "for         0.744098  0.495852  0.329051  0.762659  ...  0.022168  0.041775   \n",
       "...              ...       ...       ...       ...  ...       ...       ...   \n",
       "military    0.111685  0.006498  0.005429  0.120620  ... -0.002249 -0.002979   \n",
       "allowing    0.105358  0.082757 -0.000966  0.138099  ... -0.002675 -0.003543   \n",
       "ff          0.464473  0.195058  0.114210  0.448303  ...  0.005403  0.073690   \n",
       "dry         0.093822  0.028883  0.000601  0.077751  ... -0.003373  0.035028   \n",
       "Prediction  0.107776  0.130293 -0.128340  0.154055  ... -0.030375 -0.031694   \n",
       "\n",
       "              valued       lay  infrastructure  military  allowing        ff  \\\n",
       "the         0.225586  0.223426        0.101768  0.129466  0.127019  0.341878   \n",
       "to          0.232847  0.255793        0.093322  0.091639  0.120059  0.406666   \n",
       "ect         0.046080  0.061550        0.004393 -0.007690  0.004368  0.141460   \n",
       "and         0.272963  0.253440        0.151980  0.084147  0.124766  0.400225   \n",
       "for         0.236213  0.213631        0.134469  0.067151  0.121057  0.301074   \n",
       "...              ...       ...             ...       ...       ...       ...   \n",
       "military    0.043408  0.104297        0.041300  1.000000  0.055227  0.049524   \n",
       "allowing   -0.005130  0.018550        0.276001  0.055227  1.000000  0.096212   \n",
       "ff          0.130356  0.164296        0.114092  0.049524  0.096212  1.000000   \n",
       "dry        -0.006468  0.018939       -0.003137  0.010835 -0.003995  0.049690   \n",
       "Prediction  0.098775  0.064315        0.038161  0.064850  0.011279  0.135479   \n",
       "\n",
       "                 dry  Prediction  \n",
       "the         0.051021   -0.004421  \n",
       "to          0.071388    0.055277  \n",
       "ect         0.002492   -0.120782  \n",
       "and         0.042484    0.114364  \n",
       "for         0.038126   -0.003101  \n",
       "...              ...         ...  \n",
       "military    0.010835    0.064850  \n",
       "allowing   -0.003995    0.011279  \n",
       "ff          0.049690    0.135479  \n",
       "dry         1.000000   -0.006260  \n",
       "Prediction -0.006260    1.000000  \n",
       "\n",
       "[3001 rows x 3001 columns]"
      ]
     },
     "execution_count": 5,
     "metadata": {},
     "output_type": "execute_result"
    }
   ],
   "source": [
    "data.corr()"
   ]
  },
  {
   "cell_type": "markdown",
   "id": "ec471e37",
   "metadata": {
    "papermill": {
     "duration": 0.03625,
     "end_time": "2022-04-17T23:51:39.262115",
     "exception": false,
     "start_time": "2022-04-17T23:51:39.225865",
     "status": "completed"
    },
    "tags": []
   },
   "source": [
    "# Drop specified labels(Email No.) from rows or columns."
   ]
  },
  {
   "cell_type": "code",
   "execution_count": 6,
   "id": "7bd6bd85",
   "metadata": {
    "execution": {
     "iopub.execute_input": "2022-04-17T23:51:39.337800Z",
     "iopub.status.busy": "2022-04-17T23:51:39.337144Z",
     "iopub.status.idle": "2022-04-17T23:51:39.386231Z",
     "shell.execute_reply": "2022-04-17T23:51:39.385639Z",
     "shell.execute_reply.started": "2022-04-17T23:42:16.098040Z"
    },
    "papermill": {
     "duration": 0.088166,
     "end_time": "2022-04-17T23:51:39.386395",
     "exception": false,
     "start_time": "2022-04-17T23:51:39.298229",
     "status": "completed"
    },
    "tags": []
   },
   "outputs": [],
   "source": [
    "data.drop('Email No.', axis=1, inplace=True)"
   ]
  },
  {
   "cell_type": "markdown",
   "id": "c698e4f2",
   "metadata": {
    "papermill": {
     "duration": 0.035607,
     "end_time": "2022-04-17T23:51:39.457878",
     "exception": false,
     "start_time": "2022-04-17T23:51:39.422271",
     "status": "completed"
    },
    "tags": []
   },
   "source": [
    "# data splitting"
   ]
  },
  {
   "cell_type": "code",
   "execution_count": 7,
   "id": "8b6f19cb",
   "metadata": {
    "execution": {
     "iopub.execute_input": "2022-04-17T23:51:39.535638Z",
     "iopub.status.busy": "2022-04-17T23:51:39.534994Z",
     "iopub.status.idle": "2022-04-17T23:51:39.537213Z",
     "shell.execute_reply": "2022-04-17T23:51:39.537817Z",
     "shell.execute_reply.started": "2022-04-17T23:42:16.147382Z"
    },
    "papermill": {
     "duration": 0.043932,
     "end_time": "2022-04-17T23:51:39.537996",
     "exception": false,
     "start_time": "2022-04-17T23:51:39.494064",
     "status": "completed"
    },
    "tags": []
   },
   "outputs": [],
   "source": [
    "X = data.iloc[:, :-1].values\n",
    "y = data.iloc[:, -1].values"
   ]
  },
  {
   "cell_type": "markdown",
   "id": "628cfd76",
   "metadata": {
    "papermill": {
     "duration": 0.035509,
     "end_time": "2022-04-17T23:51:39.609236",
     "exception": false,
     "start_time": "2022-04-17T23:51:39.573727",
     "status": "completed"
    },
    "tags": []
   },
   "source": []
  },
  {
   "cell_type": "markdown",
   "id": "27b677c0",
   "metadata": {
    "papermill": {
     "duration": 0.037415,
     "end_time": "2022-04-17T23:51:39.682432",
     "exception": false,
     "start_time": "2022-04-17T23:51:39.645017",
     "status": "completed"
    },
    "tags": []
   },
   "source": [
    "# returns a Series containing the counts of unique values."
   ]
  },
  {
   "cell_type": "code",
   "execution_count": 8,
   "id": "19721dbe",
   "metadata": {
    "execution": {
     "iopub.execute_input": "2022-04-17T23:51:39.761044Z",
     "iopub.status.busy": "2022-04-17T23:51:39.759990Z",
     "iopub.status.idle": "2022-04-17T23:51:39.772170Z",
     "shell.execute_reply": "2022-04-17T23:51:39.772884Z",
     "shell.execute_reply.started": "2022-04-17T23:42:16.154344Z"
    },
    "papermill": {
     "duration": 0.054913,
     "end_time": "2022-04-17T23:51:39.773066",
     "exception": false,
     "start_time": "2022-04-17T23:51:39.718153",
     "status": "completed"
    },
    "tags": []
   },
   "outputs": [
    {
     "data": {
      "text/plain": [
       "0    3672\n",
       "1    1500\n",
       "Name: Prediction, dtype: int64"
      ]
     },
     "execution_count": 8,
     "metadata": {},
     "output_type": "execute_result"
    }
   ],
   "source": [
    "data['Prediction'].value_counts()\n"
   ]
  },
  {
   "cell_type": "markdown",
   "id": "a24c59ad",
   "metadata": {
    "papermill": {
     "duration": 0.036975,
     "end_time": "2022-04-17T23:51:39.848415",
     "exception": false,
     "start_time": "2022-04-17T23:51:39.811440",
     "status": "completed"
    },
    "tags": []
   },
   "source": [
    "# Generate descriptive statistics from data\n",
    "# ‘all’ : All columns of the input will be included in the output."
   ]
  },
  {
   "cell_type": "code",
   "execution_count": 9,
   "id": "c4e3c81c",
   "metadata": {
    "execution": {
     "iopub.execute_input": "2022-04-17T23:51:39.930743Z",
     "iopub.status.busy": "2022-04-17T23:51:39.929738Z",
     "iopub.status.idle": "2022-04-17T23:51:45.425336Z",
     "shell.execute_reply": "2022-04-17T23:51:45.426026Z",
     "shell.execute_reply.started": "2022-04-17T23:42:16.173927Z"
    },
    "papermill": {
     "duration": 5.539198,
     "end_time": "2022-04-17T23:51:45.426198",
     "exception": false,
     "start_time": "2022-04-17T23:51:39.887000",
     "status": "completed"
    },
    "tags": []
   },
   "outputs": [
    {
     "data": {
      "text/html": [
       "<div>\n",
       "<style scoped>\n",
       "    .dataframe tbody tr th:only-of-type {\n",
       "        vertical-align: middle;\n",
       "    }\n",
       "\n",
       "    .dataframe tbody tr th {\n",
       "        vertical-align: top;\n",
       "    }\n",
       "\n",
       "    .dataframe thead th {\n",
       "        text-align: right;\n",
       "    }\n",
       "</style>\n",
       "<table border=\"1\" class=\"dataframe\">\n",
       "  <thead>\n",
       "    <tr style=\"text-align: right;\">\n",
       "      <th></th>\n",
       "      <th>count</th>\n",
       "      <th>mean</th>\n",
       "      <th>std</th>\n",
       "      <th>min</th>\n",
       "      <th>25%</th>\n",
       "      <th>50%</th>\n",
       "      <th>75%</th>\n",
       "      <th>max</th>\n",
       "    </tr>\n",
       "  </thead>\n",
       "  <tbody>\n",
       "    <tr>\n",
       "      <th>the</th>\n",
       "      <td>5172.0</td>\n",
       "      <td>6.640565</td>\n",
       "      <td>11.745009</td>\n",
       "      <td>0.0</td>\n",
       "      <td>0.0</td>\n",
       "      <td>3.0</td>\n",
       "      <td>8.0</td>\n",
       "      <td>210.0</td>\n",
       "    </tr>\n",
       "    <tr>\n",
       "      <th>to</th>\n",
       "      <td>5172.0</td>\n",
       "      <td>6.188128</td>\n",
       "      <td>9.534576</td>\n",
       "      <td>0.0</td>\n",
       "      <td>1.0</td>\n",
       "      <td>3.0</td>\n",
       "      <td>7.0</td>\n",
       "      <td>132.0</td>\n",
       "    </tr>\n",
       "    <tr>\n",
       "      <th>ect</th>\n",
       "      <td>5172.0</td>\n",
       "      <td>5.143852</td>\n",
       "      <td>14.101142</td>\n",
       "      <td>1.0</td>\n",
       "      <td>1.0</td>\n",
       "      <td>1.0</td>\n",
       "      <td>4.0</td>\n",
       "      <td>344.0</td>\n",
       "    </tr>\n",
       "    <tr>\n",
       "      <th>and</th>\n",
       "      <td>5172.0</td>\n",
       "      <td>3.075599</td>\n",
       "      <td>6.045970</td>\n",
       "      <td>0.0</td>\n",
       "      <td>0.0</td>\n",
       "      <td>1.0</td>\n",
       "      <td>3.0</td>\n",
       "      <td>89.0</td>\n",
       "    </tr>\n",
       "    <tr>\n",
       "      <th>for</th>\n",
       "      <td>5172.0</td>\n",
       "      <td>3.124710</td>\n",
       "      <td>4.680522</td>\n",
       "      <td>0.0</td>\n",
       "      <td>1.0</td>\n",
       "      <td>2.0</td>\n",
       "      <td>4.0</td>\n",
       "      <td>47.0</td>\n",
       "    </tr>\n",
       "    <tr>\n",
       "      <th>...</th>\n",
       "      <td>...</td>\n",
       "      <td>...</td>\n",
       "      <td>...</td>\n",
       "      <td>...</td>\n",
       "      <td>...</td>\n",
       "      <td>...</td>\n",
       "      <td>...</td>\n",
       "      <td>...</td>\n",
       "    </tr>\n",
       "    <tr>\n",
       "      <th>military</th>\n",
       "      <td>5172.0</td>\n",
       "      <td>0.006574</td>\n",
       "      <td>0.138908</td>\n",
       "      <td>0.0</td>\n",
       "      <td>0.0</td>\n",
       "      <td>0.0</td>\n",
       "      <td>0.0</td>\n",
       "      <td>4.0</td>\n",
       "    </tr>\n",
       "    <tr>\n",
       "      <th>allowing</th>\n",
       "      <td>5172.0</td>\n",
       "      <td>0.004060</td>\n",
       "      <td>0.072145</td>\n",
       "      <td>0.0</td>\n",
       "      <td>0.0</td>\n",
       "      <td>0.0</td>\n",
       "      <td>0.0</td>\n",
       "      <td>3.0</td>\n",
       "    </tr>\n",
       "    <tr>\n",
       "      <th>ff</th>\n",
       "      <td>5172.0</td>\n",
       "      <td>0.914733</td>\n",
       "      <td>2.780203</td>\n",
       "      <td>0.0</td>\n",
       "      <td>0.0</td>\n",
       "      <td>0.0</td>\n",
       "      <td>1.0</td>\n",
       "      <td>114.0</td>\n",
       "    </tr>\n",
       "    <tr>\n",
       "      <th>dry</th>\n",
       "      <td>5172.0</td>\n",
       "      <td>0.006961</td>\n",
       "      <td>0.098086</td>\n",
       "      <td>0.0</td>\n",
       "      <td>0.0</td>\n",
       "      <td>0.0</td>\n",
       "      <td>0.0</td>\n",
       "      <td>4.0</td>\n",
       "    </tr>\n",
       "    <tr>\n",
       "      <th>Prediction</th>\n",
       "      <td>5172.0</td>\n",
       "      <td>0.290023</td>\n",
       "      <td>0.453817</td>\n",
       "      <td>0.0</td>\n",
       "      <td>0.0</td>\n",
       "      <td>0.0</td>\n",
       "      <td>1.0</td>\n",
       "      <td>1.0</td>\n",
       "    </tr>\n",
       "  </tbody>\n",
       "</table>\n",
       "<p>3001 rows × 8 columns</p>\n",
       "</div>"
      ],
      "text/plain": [
       "             count      mean        std  min  25%  50%  75%    max\n",
       "the         5172.0  6.640565  11.745009  0.0  0.0  3.0  8.0  210.0\n",
       "to          5172.0  6.188128   9.534576  0.0  1.0  3.0  7.0  132.0\n",
       "ect         5172.0  5.143852  14.101142  1.0  1.0  1.0  4.0  344.0\n",
       "and         5172.0  3.075599   6.045970  0.0  0.0  1.0  3.0   89.0\n",
       "for         5172.0  3.124710   4.680522  0.0  1.0  2.0  4.0   47.0\n",
       "...            ...       ...        ...  ...  ...  ...  ...    ...\n",
       "military    5172.0  0.006574   0.138908  0.0  0.0  0.0  0.0    4.0\n",
       "allowing    5172.0  0.004060   0.072145  0.0  0.0  0.0  0.0    3.0\n",
       "ff          5172.0  0.914733   2.780203  0.0  0.0  0.0  1.0  114.0\n",
       "dry         5172.0  0.006961   0.098086  0.0  0.0  0.0  0.0    4.0\n",
       "Prediction  5172.0  0.290023   0.453817  0.0  0.0  0.0  1.0    1.0\n",
       "\n",
       "[3001 rows x 8 columns]"
      ]
     },
     "execution_count": 9,
     "metadata": {},
     "output_type": "execute_result"
    }
   ],
   "source": [
    "data.describe(include='all').T"
   ]
  },
  {
   "cell_type": "markdown",
   "id": "14092b3b",
   "metadata": {
    "papermill": {
     "duration": 0.037876,
     "end_time": "2022-04-17T23:51:45.500819",
     "exception": false,
     "start_time": "2022-04-17T23:51:45.462943",
     "status": "completed"
    },
    "tags": []
   },
   "source": [
    "# This method prints information about a DataFrame including the index dtype and columns, non-null values and memory usage."
   ]
  },
  {
   "cell_type": "code",
   "execution_count": 10,
   "id": "43625d03",
   "metadata": {
    "execution": {
     "iopub.execute_input": "2022-04-17T23:51:45.579733Z",
     "iopub.status.busy": "2022-04-17T23:51:45.578736Z",
     "iopub.status.idle": "2022-04-17T23:51:45.592513Z",
     "shell.execute_reply": "2022-04-17T23:51:45.591929Z",
     "shell.execute_reply.started": "2022-04-17T23:42:21.659854Z"
    },
    "papermill": {
     "duration": 0.054322,
     "end_time": "2022-04-17T23:51:45.592656",
     "exception": false,
     "start_time": "2022-04-17T23:51:45.538334",
     "status": "completed"
    },
    "tags": []
   },
   "outputs": [
    {
     "data": {
      "text/plain": [
       "<bound method DataFrame.info of       the  to  ect  and  for  of    a  you  hou  in  ...  connevey  jay  \\\n",
       "0       0   0    1    0    0   0    2    0    0   0  ...         0    0   \n",
       "1       8  13   24    6    6   2  102    1   27  18  ...         0    0   \n",
       "2       0   0    1    0    0   0    8    0    0   4  ...         0    0   \n",
       "3       0   5   22    0    5   1   51    2   10   1  ...         0    0   \n",
       "4       7   6   17    1    5   2   57    0    9   3  ...         0    0   \n",
       "...   ...  ..  ...  ...  ...  ..  ...  ...  ...  ..  ...       ...  ...   \n",
       "5167    2   2    2    3    0   0   32    0    0   5  ...         0    0   \n",
       "5168   35  27   11    2    6   5  151    4    3  23  ...         0    0   \n",
       "5169    0   0    1    1    0   0   11    0    0   1  ...         0    0   \n",
       "5170    2   7    1    0    2   1   28    2    0   8  ...         0    0   \n",
       "5171   22  24    5    1    6   5  148    8    2  23  ...         0    0   \n",
       "\n",
       "      valued  lay  infrastructure  military  allowing  ff  dry  Prediction  \n",
       "0          0    0               0         0         0   0    0           0  \n",
       "1          0    0               0         0         0   1    0           0  \n",
       "2          0    0               0         0         0   0    0           0  \n",
       "3          0    0               0         0         0   0    0           0  \n",
       "4          0    0               0         0         0   1    0           0  \n",
       "...      ...  ...             ...       ...       ...  ..  ...         ...  \n",
       "5167       0    0               0         0         0   0    0           0  \n",
       "5168       0    0               0         0         0   1    0           0  \n",
       "5169       0    0               0         0         0   0    0           1  \n",
       "5170       0    0               0         0         0   1    0           1  \n",
       "5171       0    0               0         0         0   0    0           0  \n",
       "\n",
       "[5172 rows x 3001 columns]>"
      ]
     },
     "execution_count": 10,
     "metadata": {},
     "output_type": "execute_result"
    }
   ],
   "source": [
    "data.info"
   ]
  },
  {
   "cell_type": "markdown",
   "id": "47b18eff",
   "metadata": {
    "papermill": {
     "duration": 0.037156,
     "end_time": "2022-04-17T23:51:45.669956",
     "exception": false,
     "start_time": "2022-04-17T23:51:45.632800",
     "status": "completed"
    },
    "tags": []
   },
   "source": [
    "# Count number of distinct elements in specified axis."
   ]
  },
  {
   "cell_type": "code",
   "execution_count": 11,
   "id": "d294b246",
   "metadata": {
    "execution": {
     "iopub.execute_input": "2022-04-17T23:51:45.753843Z",
     "iopub.status.busy": "2022-04-17T23:51:45.753116Z",
     "iopub.status.idle": "2022-04-17T23:51:46.126411Z",
     "shell.execute_reply": "2022-04-17T23:51:46.125868Z",
     "shell.execute_reply.started": "2022-04-17T23:42:21.685280Z"
    },
    "papermill": {
     "duration": 0.41575,
     "end_time": "2022-04-17T23:51:46.126585",
     "exception": false,
     "start_time": "2022-04-17T23:51:45.710835",
     "status": "completed"
    },
    "tags": []
   },
   "outputs": [
    {
     "data": {
      "text/plain": [
       "the           90\n",
       "to            72\n",
       "ect           90\n",
       "and           53\n",
       "for           42\n",
       "              ..\n",
       "military       4\n",
       "allowing       3\n",
       "ff            23\n",
       "dry            4\n",
       "Prediction     2\n",
       "Length: 3001, dtype: int64"
      ]
     },
     "execution_count": 11,
     "metadata": {},
     "output_type": "execute_result"
    }
   ],
   "source": [
    "data.nunique()"
   ]
  },
  {
   "cell_type": "markdown",
   "id": "a9c34106",
   "metadata": {
    "papermill": {
     "duration": 0.039429,
     "end_time": "2022-04-17T23:51:46.206866",
     "exception": false,
     "start_time": "2022-04-17T23:51:46.167437",
     "status": "completed"
    },
    "tags": []
   },
   "source": [
    "# I get a list of the null count for each column"
   ]
  },
  {
   "cell_type": "code",
   "execution_count": 12,
   "id": "2cb70a91",
   "metadata": {
    "execution": {
     "iopub.execute_input": "2022-04-17T23:51:46.296970Z",
     "iopub.status.busy": "2022-04-17T23:51:46.295957Z",
     "iopub.status.idle": "2022-04-17T23:51:46.330758Z",
     "shell.execute_reply": "2022-04-17T23:51:46.331339Z",
     "shell.execute_reply.started": "2022-04-17T23:42:22.036415Z"
    },
    "papermill": {
     "duration": 0.083291,
     "end_time": "2022-04-17T23:51:46.331528",
     "exception": false,
     "start_time": "2022-04-17T23:51:46.248237",
     "status": "completed"
    },
    "tags": []
   },
   "outputs": [
    {
     "data": {
      "text/plain": [
       "the           0\n",
       "to            0\n",
       "ect           0\n",
       "and           0\n",
       "for           0\n",
       "             ..\n",
       "military      0\n",
       "allowing      0\n",
       "ff            0\n",
       "dry           0\n",
       "Prediction    0\n",
       "Length: 3001, dtype: int64"
      ]
     },
     "execution_count": 12,
     "metadata": {},
     "output_type": "execute_result"
    }
   ],
   "source": [
    "data.isnull().sum()"
   ]
  },
  {
   "cell_type": "markdown",
   "id": "3809d1e7",
   "metadata": {
    "papermill": {
     "duration": 0.041138,
     "end_time": "2022-04-17T23:51:46.412568",
     "exception": false,
     "start_time": "2022-04-17T23:51:46.371430",
     "status": "completed"
    },
    "tags": []
   },
   "source": [
    "# Step 1 : EDA (Exploratory Data Analysis)"
   ]
  },
  {
   "cell_type": "code",
   "execution_count": 13,
   "id": "a9cbe6ca",
   "metadata": {
    "execution": {
     "iopub.execute_input": "2022-04-17T23:51:46.499079Z",
     "iopub.status.busy": "2022-04-17T23:51:46.498272Z",
     "iopub.status.idle": "2022-04-17T23:51:46.783173Z",
     "shell.execute_reply": "2022-04-17T23:51:46.782556Z",
     "shell.execute_reply.started": "2022-04-17T23:42:22.073323Z"
    },
    "papermill": {
     "duration": 0.331288,
     "end_time": "2022-04-17T23:51:46.783341",
     "exception": false,
     "start_time": "2022-04-17T23:51:46.452053",
     "status": "completed"
    },
    "tags": []
   },
   "outputs": [
    {
     "data": {
      "text/plain": [
       "<AxesSubplot:>"
      ]
     },
     "execution_count": 13,
     "metadata": {},
     "output_type": "execute_result"
    },
    {
     "data": {
      "image/png": "[encoded data removed]",
      "text/plain": [
       "<Figure size 432x288 with 1 Axes>"
      ]
     },
     "metadata": {
      "needs_background": "light"
     },
     "output_type": "display_data"
    }
   ],
   "source": [
    "data.Prediction.hist()"
   ]
  },
  {
   "cell_type": "markdown",
   "id": "e1c79de6",
   "metadata": {
    "papermill": {
     "duration": 0.03892,
     "end_time": "2022-04-17T23:51:46.863515",
     "exception": false,
     "start_time": "2022-04-17T23:51:46.824595",
     "status": "completed"
    },
    "tags": []
   },
   "source": [
    "# Variance selector caveats"
   ]
  },
  {
   "cell_type": "code",
   "execution_count": 14,
   "id": "a8d33672",
   "metadata": {
    "execution": {
     "iopub.execute_input": "2022-04-17T23:51:46.957516Z",
     "iopub.status.busy": "2022-04-17T23:51:46.956803Z",
     "iopub.status.idle": "2022-04-17T23:53:08.011108Z",
     "shell.execute_reply": "2022-04-17T23:53:08.011644Z",
     "shell.execute_reply.started": "2022-04-17T23:42:22.306931Z"
    },
    "papermill": {
     "duration": 81.108968,
     "end_time": "2022-04-17T23:53:08.011837",
     "exception": false,
     "start_time": "2022-04-17T23:51:46.902869",
     "status": "completed"
    },
    "tags": []
   },
   "outputs": [
    {
     "data": {
      "text/plain": [
       "<AxesSubplot:>"
      ]
     },
     "execution_count": 14,
     "metadata": {},
     "output_type": "execute_result"
    },
    {
     "data": {
      "image/png": "[encoded data removed]",
      "text/plain": [
       "<Figure size 432x288 with 1 Axes>"
      ]
     },
     "metadata": {
      "needs_background": "light"
     },
     "output_type": "display_data"
    }
   ],
   "source": [
    "data.boxplot()"
   ]
  },
  {
   "cell_type": "markdown",
   "id": "d9835af9",
   "metadata": {
    "papermill": {
     "duration": 0.043168,
     "end_time": "2022-04-17T23:53:08.098602",
     "exception": false,
     "start_time": "2022-04-17T23:53:08.055434",
     "status": "completed"
    },
    "tags": []
   },
   "source": [
    "# visualization for y\n"
   ]
  },
  {
   "cell_type": "code",
   "execution_count": 15,
   "id": "5b8adf78",
   "metadata": {
    "execution": {
     "iopub.execute_input": "2022-04-17T23:53:08.188112Z",
     "iopub.status.busy": "2022-04-17T23:53:08.186853Z",
     "iopub.status.idle": "2022-04-17T23:53:09.336528Z",
     "shell.execute_reply": "2022-04-17T23:53:09.337009Z",
     "shell.execute_reply.started": "2022-04-17T23:43:42.440268Z"
    },
    "papermill": {
     "duration": 1.196073,
     "end_time": "2022-04-17T23:53:09.337187",
     "exception": false,
     "start_time": "2022-04-17T23:53:08.141114",
     "status": "completed"
    },
    "tags": []
   },
   "outputs": [
    {
     "data": {
      "image/png": "[encoded data removed]",
      "text/plain": [
       "<Figure size 1440x360 with 1 Axes>"
      ]
     },
     "metadata": {
      "needs_background": "light"
     },
     "output_type": "display_data"
    }
   ],
   "source": [
    "import matplotlib.pyplot as plt\n",
    "import seaborn as sns\n",
    "plt.figure(figsize=(20,5))\n",
    "plt.xticks(rotation=90)\n",
    "ax=sns.countplot(x=\"spam\", data=data)\n",
    "plt.show()\n"
   ]
  },
  {
   "cell_type": "code",
   "execution_count": 16,
   "id": "a5650970",
   "metadata": {
    "execution": {
     "iopub.execute_input": "2022-04-17T23:53:09.426603Z",
     "iopub.status.busy": "2022-04-17T23:53:09.425912Z",
     "iopub.status.idle": "2022-04-17T23:53:09.625135Z",
     "shell.execute_reply": "2022-04-17T23:53:09.624225Z",
     "shell.execute_reply.started": "2022-04-17T23:43:43.479140Z"
    },
    "papermill": {
     "duration": 0.245657,
     "end_time": "2022-04-17T23:53:09.625399",
     "exception": false,
     "start_time": "2022-04-17T23:53:09.379742",
     "status": "completed"
    },
    "tags": []
   },
   "outputs": [
    {
     "data": {
      "image/png": "[encoded data removed]",
      "text/plain": [
       "<Figure size 1440x360 with 1 Axes>"
      ]
     },
     "metadata": {},
     "output_type": "display_data"
    }
   ],
   "source": [
    "targetCounts = data['spam'].value_counts()\n",
    "targetLabels = data['spam'].unique()\n",
    "plt.figure(figsize=(20,5))\n",
    "plt.pie(targetCounts, labels=targetLabels, autopct='%1.1f%%', shadow=True)\n",
    "plt.title(\"type of emails\")\n",
    "plt.show()"
   ]
  },
  {
   "cell_type": "markdown",
   "id": "143325dc",
   "metadata": {
    "papermill": {
     "duration": 0.045297,
     "end_time": "2022-04-17T23:53:09.747978",
     "exception": false,
     "start_time": "2022-04-17T23:53:09.702681",
     "status": "completed"
    },
    "tags": []
   },
   "source": []
  },
  {
   "cell_type": "code",
   "execution_count": 17,
   "id": "bae76554",
   "metadata": {
    "execution": {
     "iopub.execute_input": "2022-04-17T23:53:09.844393Z",
     "iopub.status.busy": "2022-04-17T23:53:09.843706Z",
     "iopub.status.idle": "2022-04-17T23:55:27.855973Z",
     "shell.execute_reply": "2022-04-17T23:55:27.856497Z",
     "shell.execute_reply.started": "2022-04-17T23:43:43.678155Z"
    },
    "papermill": {
     "duration": 138.063149,
     "end_time": "2022-04-17T23:55:27.856687",
     "exception": false,
     "start_time": "2022-04-17T23:53:09.793538",
     "status": "completed"
    },
    "tags": []
   },
   "outputs": [
    {
     "data": {
      "text/plain": [
       "<AxesSubplot:>"
      ]
     },
     "execution_count": 17,
     "metadata": {},
     "output_type": "execute_result"
    },
    {
     "data": {
      "image/png": "[encoded data removed]",
      "text/plain": [
       "<Figure size 432x288 with 2 Axes>"
      ]
     },
     "metadata": {
      "needs_background": "light"
     },
     "output_type": "display_data"
    }
   ],
   "source": [
    "sns.heatmap(data.corr())"
   ]
  },
  {
   "cell_type": "markdown",
   "id": "496f8866",
   "metadata": {
    "papermill": {
     "duration": 0.047073,
     "end_time": "2022-04-17T23:55:27.953246",
     "exception": false,
     "start_time": "2022-04-17T23:55:27.906173",
     "status": "completed"
    },
    "tags": []
   },
   "source": [
    "## Model building starts"
   ]
  },
  {
   "cell_type": "code",
   "execution_count": 18,
   "id": "41d48d42",
   "metadata": {
    "execution": {
     "iopub.execute_input": "2022-04-17T23:55:28.054178Z",
     "iopub.status.busy": "2022-04-17T23:55:28.053197Z",
     "iopub.status.idle": "2022-04-17T23:55:28.480401Z",
     "shell.execute_reply": "2022-04-17T23:55:28.480884Z",
     "shell.execute_reply.started": "2022-04-17T23:45:59.964335Z"
    },
    "papermill": {
     "duration": 0.479304,
     "end_time": "2022-04-17T23:55:28.481475",
     "exception": false,
     "start_time": "2022-04-17T23:55:28.002171",
     "status": "completed"
    },
    "tags": []
   },
   "outputs": [],
   "source": [
    "from sklearn.model_selection import train_test_split\n",
    "X_train,X_test,y_train,y_test=train_test_split(X,y,test_size=0.2,random_state=40)"
   ]
  },
  {
   "cell_type": "markdown",
   "id": "26c5921c",
   "metadata": {
    "papermill": {
     "duration": 0.047219,
     "end_time": "2022-04-17T23:55:28.576157",
     "exception": false,
     "start_time": "2022-04-17T23:55:28.528938",
     "status": "completed"
    },
    "tags": []
   },
   "source": [
    "### Applying LogisticRegression Model "
   ]
  },
  {
   "cell_type": "code",
   "execution_count": 19,
   "id": "656de0bb",
   "metadata": {
    "execution": {
     "iopub.execute_input": "2022-04-17T23:55:28.681654Z",
     "iopub.status.busy": "2022-04-17T23:55:28.680806Z",
     "iopub.status.idle": "2022-04-17T23:55:41.611406Z",
     "shell.execute_reply": "2022-04-17T23:55:41.611937Z",
     "shell.execute_reply.started": "2022-04-17T23:46:00.342527Z"
    },
    "papermill": {
     "duration": 12.987363,
     "end_time": "2022-04-17T23:55:41.612342",
     "exception": false,
     "start_time": "2022-04-17T23:55:28.624979",
     "status": "completed"
    },
    "tags": []
   },
   "outputs": [
    {
     "name": "stdout",
     "output_type": "stream",
     "text": [
      "the score is 0.9992748368382887\n",
      "the score is 0.9671497584541063\n",
      "LogisticRegressionModel Classes are :  [0 1]\n",
      "LogisticRegressionModel No. of iteratios is :  [754]\n",
      "Confusion Matrix is : \n",
      " [[722  19]\n",
      " [ 15 279]]\n"
     ]
    },
    {
     "data": {
      "image/png": "[encoded data removed]",
      "text/plain": [
       "<Figure size 432x288 with 2 Axes>"
      ]
     },
     "metadata": {
      "needs_background": "light"
     },
     "output_type": "display_data"
    }
   ],
   "source": [
    "from sklearn.linear_model import LogisticRegression\n",
    "LogisticRegression_model=LogisticRegression(tol = 0.1,C = 0.6 ,max_iter= 1500 ,random_state=40)\n",
    "LogisticRegression_model.fit(X_train,y_train)\n",
    "#Calculating Prediction\n",
    "y_pred_rfr = LogisticRegression_model.predict(X_test)\n",
    "#Calculating Score for train and test\n",
    "print('the score is {}'.format(LogisticRegression_model.score(X_train, y_train)))\n",
    "#Calculating Score for train and test\n",
    "print('the score is {}'.format(LogisticRegression_model.score(X_test, y_test)))\n",
    "print('LogisticRegressionModel Classes are : ' , LogisticRegression_model.classes_)\n",
    "print('LogisticRegressionModel No. of iteratios is : ' , LogisticRegression_model.n_iter_)\n",
    "#Calculating Confusion Matrix\n",
    "import seaborn as sns\n",
    "import matplotlib.pyplot as plt\n",
    "from sklearn.metrics import confusion_matrix\n",
    "CM = confusion_matrix(y_test, y_pred_rfr)\n",
    "print('Confusion Matrix is : \\n', CM)\n",
    "# drawing confusion matrix\n",
    "sns.heatmap(CM, center = True,annot=True)\n",
    "plt.show()\n"
   ]
  },
  {
   "cell_type": "markdown",
   "id": "71907acd",
   "metadata": {
    "papermill": {
     "duration": 0.048463,
     "end_time": "2022-04-17T23:55:41.710729",
     "exception": false,
     "start_time": "2022-04-17T23:55:41.662266",
     "status": "completed"
    },
    "tags": []
   },
   "source": [
    "# Calculating classification_report"
   ]
  },
  {
   "cell_type": "code",
   "execution_count": 20,
   "id": "9bc47f8b",
   "metadata": {
    "execution": {
     "iopub.execute_input": "2022-04-17T23:55:41.811763Z",
     "iopub.status.busy": "2022-04-17T23:55:41.811073Z",
     "iopub.status.idle": "2022-04-17T23:55:41.821922Z",
     "shell.execute_reply": "2022-04-17T23:55:41.822438Z",
     "shell.execute_reply.started": "2022-04-17T23:48:53.780068Z"
    },
    "papermill": {
     "duration": 0.063229,
     "end_time": "2022-04-17T23:55:41.822613",
     "exception": false,
     "start_time": "2022-04-17T23:55:41.759384",
     "status": "completed"
    },
    "tags": []
   },
   "outputs": [
    {
     "name": "stdout",
     "output_type": "stream",
     "text": [
      "              precision    recall  f1-score   support\n",
      "\n",
      "           0       0.98      0.97      0.98       741\n",
      "           1       0.94      0.95      0.94       294\n",
      "\n",
      "    accuracy                           0.97      1035\n",
      "   macro avg       0.96      0.96      0.96      1035\n",
      "weighted avg       0.97      0.97      0.97      1035\n",
      "\n"
     ]
    }
   ],
   "source": [
    "from sklearn.metrics import classification_report\n",
    "print(classification_report(y_test, y_pred_rfr))\n"
   ]
  },
  {
   "cell_type": "code",
   "execution_count": null,
   "id": "89f663df",
   "metadata": {
    "papermill": {
     "duration": 0.049313,
     "end_time": "2022-04-17T23:55:41.921108",
     "exception": false,
     "start_time": "2022-04-17T23:55:41.871795",
     "status": "completed"
    },
    "tags": []
   },
   "outputs": [],
   "source": []
  }
 ],
 "metadata": {
  "kernelspec": {
   "display_name": "Python 3",
   "language": "python",
   "name": "python3"
  },
  "language_info": {
   "codemirror_mode": {
    "name": "ipython",
    "version": 3
   },
   "file_extension": ".py",
   "mimetype": "text/x-python",
   "name": "python",
   "nbconvert_exporter": "python",
   "pygments_lexer": "ipython3",
   "version": "3.7.12"
  },
  "papermill": {
   "default_parameters": {},
   "duration": 382.676387,
   "end_time": "2022-04-17T23:55:44.388506",
   "environment_variables": {},
   "exception": null,
   "input_path": "__notebook__.ipynb",
   "output_path": "__notebook__.ipynb",
   "parameters": {},
   "start_time": "2022-04-17T23:49:21.712119",
   "version": "2.3.3"
  }
 },
 "nbformat": 4,
 "nbformat_minor": 5
}
